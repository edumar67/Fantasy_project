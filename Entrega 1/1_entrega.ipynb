{
 "cells": [
  {
   "cell_type": "markdown",
   "id": "010f91a3",
   "metadata": {},
   "source": [
    "- <Strong> NOMBRE ALUMNOS: </Strong> `DIEGO EDUARDO MARTINEZ SINCEL \\  OWEN DAVID LOZA` \n",
    "- <Strong> Email: </Strong>  <font color=\"blue\"> `diegoe.martinez@iteso.mx \\ owen.loza@iteso.mx` </font>"
   ]
  },
  {
   "cell_type": "code",
   "execution_count": null,
   "id": "f93c03e1",
   "metadata": {},
   "outputs": [],
   "source": [
    "import pandas as pd\n",
    "import matplotlib.pyplot as plt\n",
    "import seaborn as sns"
   ]
  }
 ],
 "metadata": {
  "kernelspec": {
   "display_name": "DataScience",
   "language": "python",
   "name": "python3"
  },
  "language_info": {
   "name": "python",
   "version": "3.12.3"
  }
 },
 "nbformat": 4,
 "nbformat_minor": 5
}
